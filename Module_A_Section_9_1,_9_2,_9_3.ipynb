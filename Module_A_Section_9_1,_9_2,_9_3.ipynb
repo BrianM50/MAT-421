{
  "nbformat": 4,
  "nbformat_minor": 0,
  "metadata": {
    "colab": {
      "provenance": [],
      "authorship_tag": "ABX9TyNhfRHqu442IQu5VEmMNbmb",
      "include_colab_link": true
    },
    "kernelspec": {
      "name": "python3",
      "display_name": "Python 3"
    },
    "language_info": {
      "name": "python"
    }
  },
  "cells": [
    {
      "cell_type": "markdown",
      "metadata": {
        "id": "view-in-github",
        "colab_type": "text"
      },
      "source": [
        "<a href=\"https://colab.research.google.com/github/BrianM50/MAT-421/blob/main/Module_A_Section_9_1%2C_9_2%2C_9_3.ipynb\" target=\"_parent\"><img src=\"https://colab.research.google.com/assets/colab-badge.svg\" alt=\"Open In Colab\"/></a>"
      ]
    },
    {
      "cell_type": "code",
      "execution_count": 2,
      "metadata": {
        "id": "IOH_9dHlxoRi"
      },
      "outputs": [],
      "source": [
        "import numpy as np"
      ]
    },
    {
      "cell_type": "markdown",
      "source": [
        "**Section 9.1 (Base-N and Binary)**"
      ],
      "metadata": {
        "id": "Ed8IXGsU56RP"
      }
    },
    {
      "cell_type": "code",
      "source": [
        "print(\"A way of representing numbers is the decimal system, which is a system where a number is represented by a list of digits from 0 to 9 and where each digit represents the coefficient for a power of 10.\")\n",
        "\n",
        "#Example: The decimal expansion of 683.74\n",
        "print(683.74 == 6*(10**2) + 8*(10**1) + 3*(10**0) + 7*(10**-1) + 4*(10**-2))\n",
        "\n",
        "#Example: Convert 112(base 3) into 14(base 10)\n",
        "1*(3**2) + 1*(3**1) + 2*(3**0) == 1*(10**1) + 4*(10**0)"
      ],
      "metadata": {
        "colab": {
          "base_uri": "https://localhost:8080/"
        },
        "id": "M0EsHIWCyzFp",
        "outputId": "8173e0e1-37ab-47ae-ec58-2c438b164f83"
      },
      "execution_count": 3,
      "outputs": [
        {
          "output_type": "stream",
          "name": "stdout",
          "text": [
            "A way of representing numbers is the decimal system, which is a system where a number is represented by a list of digits from 0 to 9 and where each digit represents the coefficient for a power of 10.\n",
            "True\n"
          ]
        },
        {
          "output_type": "execute_result",
          "data": {
            "text/plain": [
              "True"
            ]
          },
          "metadata": {},
          "execution_count": 3
        }
      ]
    },
    {
      "cell_type": "code",
      "source": [
        "print(\"Since binary only has two digits, 1 and 0, and each digit is the coefficient of a power of 2, it uses base 2. \")\n",
        "\n",
        "print(\"\\n\" \"Example: Convert 25 into binary\")\n",
        "print(\"25 = 16 + 8 + 1\")\n",
        "print(25 == 1*(2**4) + 1*(2**3) + 0*(2**2) + 0*(2**1) + 1*(2**0))\n",
        "print(\"25(base 10) = 11001\")\n",
        "\n",
        "print(\"\\n\" \"Example: Convert 13 into binary\")\n",
        "print(\"13 = 8 + 4 + 1\")\n",
        "print(13 ==  1*(2**3) + 1*(2**2) + 0*(2**1) + 1*(2**0))\n",
        "print(\"13(base 10) = 1101\")"
      ],
      "metadata": {
        "colab": {
          "base_uri": "https://localhost:8080/"
        },
        "id": "Fln1A2e65ubu",
        "outputId": "b112a7f2-1f51-4efd-9713-e1217806f54b"
      },
      "execution_count": 4,
      "outputs": [
        {
          "output_type": "stream",
          "name": "stdout",
          "text": [
            "Since binary only has two digits, 1 and 0, and each digit is the coefficient of a power of 2, it uses base 2. \n",
            "\n",
            "Example: Convert 25 into binary\n",
            "25 = 16 + 8 + 1\n",
            "True\n",
            "25(base 10) = 11001\n",
            "\n",
            "Example: Convert 13 into binary\n",
            "13 = 8 + 4 + 1\n",
            "True\n",
            "13(base 10) = 1101\n"
          ]
        }
      ]
    },
    {
      "cell_type": "markdown",
      "source": [
        "**Section 9.2 (Floating Point Numbers)**"
      ],
      "metadata": {
        "id": "EYmMiQcW-e2G"
      }
    },
    {
      "cell_type": "code",
      "source": [
        "print(\"Floating point numbers are used when a larger range and precision are needed. \")\n",
        "print(\"Instead of using binary, which uses each bit as the coefficient of the power of two, floats use bits in three different parts:\")\n",
        "print(\" The sign indicator, which determines if a number is positive or negative.\")\n",
        "print(\" The exponent, which is the power of 2.\")\n",
        "print(\" The fraction, which is the coefficient of the exponent. \\n\")\n",
        "\n",
        "print(\"A float can be represented as:\")\n",
        "print(\"n = (-1)^s * 2^e-1023 * (1+f)\")"
      ],
      "metadata": {
        "colab": {
          "base_uri": "https://localhost:8080/"
        },
        "id": "ajUUtcsT-d4c",
        "outputId": "304e151d-c85a-4725-9423-57fbe2a51faa"
      },
      "execution_count": 5,
      "outputs": [
        {
          "output_type": "stream",
          "name": "stdout",
          "text": [
            "Floating point numbers are used when a larger range and precision are needed. \n",
            "Instead of using binary, which uses each bit as the coefficient of the power of two, floats use bits in three different parts:\n",
            " The sign indicator, which determines if a number is positive or negative.\n",
            " The exponent, which is the power of 2.\n",
            " The fraction, which is the coefficient of the exponent. \n",
            "\n",
            "A float can be represented as:\n",
            "n = (-1)^s * 2^e-1023 * (1+f)\n"
          ]
        }
      ]
    },
    {
      "cell_type": "code",
      "source": [
        "print(\"Example: What is the number 0 10001000000 1010000000000000000000000000000000000000000000000000(IEEE754) in base10?\")\n",
        "\n",
        "# 0 = s, which is the sign indictator\n",
        "print(\"\\n\" \"s = 0\")\n",
        "# e = 10001000000, convert e from binary to decimal\n",
        "print(\"e =\", int(0b10001000000))\n",
        "# f = 1010000000000000000000000000000000000000000000000000, which is the fraction\n",
        "print(\"f =\", 1*(1/(2**1)) + 1*(1/(2**3)))\n",
        "\n",
        "print(\"n = (-1)^0 * 2^1088-1023 * (1+0.625)\")\n",
        "n = (-1)**0 * 2**(1088-1023) * (1+0.625)\n",
        "print(\"n =\",n)"
      ],
      "metadata": {
        "colab": {
          "base_uri": "https://localhost:8080/"
        },
        "id": "2N6aVmQrEf1M",
        "outputId": "65c53898-30f6-4afb-a490-208eefa0de92"
      },
      "execution_count": null,
      "outputs": [
        {
          "output_type": "stream",
          "name": "stdout",
          "text": [
            "Example: What is the number 0 10001000000 1010000000000000000000000000000000000000000000000000(IEEE754) in base10?\n",
            "\n",
            "s = 0\n",
            "e = 1088\n",
            "f = 0.625\n",
            "n = (-1)^0 * 2^1088-1023 * (1+0.625)\n",
            "n = 5.995191823955604e+19\n"
          ]
        }
      ]
    },
    {
      "cell_type": "markdown",
      "source": [
        "**Section 9.3 (Round-off Errors)**"
      ],
      "metadata": {
        "id": "G0UkUYT9KN13"
      }
    },
    {
      "cell_type": "code",
      "source": [
        "print(\"Since floating point numbers aren't stored with perfect precision and are just approximations, there are sometimes round-off errors.\")\n",
        "print(\"Round-off errors are the difference between an approximation of a number used in computation and its correct value\")\n",
        "\n",
        "print(\"\\n\" \"Example: Round-off error by floating-point arithmetic: 3.9 - 3.745\")\n",
        "print(3.9 - 3.745 == 0.155)\n",
        "r = 3.9 - 3.745\n",
        "print(\"3.9 - 3.745 shoud be equal to 0.155, but since floating numbers can't be represented by the exact number we get 3.9 - 3.745 =\", r, \"\\n\")\n",
        "\n",
        "#To get a comparable value in python, the round function can be used.\n",
        "print(0.4 + 0.2 + 0.3 == 0.9)\n",
        "print(round(0.4 + 0.2 + 0.3, 5) == round(0.9, 5))"
      ],
      "metadata": {
        "colab": {
          "base_uri": "https://localhost:8080/"
        },
        "id": "QGGAjaxnKM0l",
        "outputId": "fb77c4eb-5643-46e2-f66a-bf4bfb8d94f1"
      },
      "execution_count": null,
      "outputs": [
        {
          "output_type": "stream",
          "name": "stdout",
          "text": [
            "Since floating point numbers aren't stored with perfect precision and are just approximations, there are sometimes round-off errors.\n",
            "Round-off errors are the difference between an approximation of a number used in computation and its correct value\n",
            "\n",
            "Example: Round-off error by floating-point arithmetic: 3.9 - 3.745\n",
            "False\n",
            "3.9 - 3.745 shoud be equal to 0.155, but since floating numbers can't be represented by the exact number we get 3.9 - 3.745 = 0.1549999999999998 \n",
            "\n",
            "False\n",
            "True\n"
          ]
        }
      ]
    }
  ]
}