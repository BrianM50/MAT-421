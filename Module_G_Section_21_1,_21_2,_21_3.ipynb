{
  "nbformat": 4,
  "nbformat_minor": 0,
  "metadata": {
    "colab": {
      "provenance": [],
      "authorship_tag": "ABX9TyNNuM07z9z0ALB+LbjW1nOg",
      "include_colab_link": true
    },
    "kernelspec": {
      "name": "python3",
      "display_name": "Python 3"
    },
    "language_info": {
      "name": "python"
    }
  },
  "cells": [
    {
      "cell_type": "markdown",
      "metadata": {
        "id": "view-in-github",
        "colab_type": "text"
      },
      "source": [
        "<a href=\"https://colab.research.google.com/github/BrianM50/MAT-421/blob/main/Module_G_Section_21_1%2C_21_2%2C_21_3.ipynb\" target=\"_parent\"><img src=\"https://colab.research.google.com/assets/colab-badge.svg\" alt=\"Open In Colab\"/></a>"
      ]
    },
    {
      "cell_type": "code",
      "execution_count": 1,
      "metadata": {
        "id": "c7NP0PAxfz7I"
      },
      "outputs": [],
      "source": [
        "import numpy as np"
      ]
    },
    {
      "cell_type": "markdown",
      "source": [
        "**Section 21.1(Numerical Integration Problem Statement)**\n",
        "\n",
        "The goal is to approximate the integral of a given function f(x) over the total interval, [a,b]. To do this its assumed that the interval has been discretized into a numeral grid, x. It consist of n+1 points with a spacing of h=(b-a)/n. Each point is denoted in x by x(i). It's also assumed that the function, f(x), can be computed for any points of the grid. A subinterval is an interval such that [x(i),x(i+1)]."
      ],
      "metadata": {
        "id": "cH5CrY46hTBe"
      }
    },
    {
      "cell_type": "markdown",
      "source": [
        "**Section 21.2(Riemanns Integral)**\n",
        "\n",
        "Riemanns integral approximates integrals by summing the area of rectangles that are defined for each subinterval. The width of these rectangles is h=x(i+1)-x(i) and the height is defined by the a function value f(x) for some x in the subinterval. Two choices for height are the function value at the left endpoint, x(i), or the right endpoint, x(i+1). This is because these values can be used when the function is unknown. The equation used depends on whether the left or right endpoint is chosen.\n",
        "\n",
        "∫[b,a] f(x)dx ≈ ∑[n−1,i=0] h*f(x(i))\n",
        "\n",
        "\n",
        "∫[b,a] f(x)dx ≈ ∑[n,i=1] h*f(x(i))\n",
        "\n",
        "The Midpoint Rule uses the rectangle height of the rectangle at each subinterval to be the function value at the midpoint between x(i) and x(i+1).\n",
        "\n",
        "∫[b,a] f(x)dx ≈ ∑[n-1,i=0] h*f(y(i)), where y(i) = (x(i+1)+x(i))/2\n"
      ],
      "metadata": {
        "id": "C4jxpXKVjUen"
      }
    },
    {
      "cell_type": "code",
      "source": [
        "#Approximate ∫[2π,0] cos(x)dx with 15 evenly spaced grid points over the whole interval, using the left Riemann Integral, right Riemann Integral, and Midpoint Rule.\n",
        "a = 0\n",
        "b = 2*np.pi\n",
        "n = 15\n",
        "h = (b - a) / (n - 1)\n",
        "x = np.linspace(a, b, n)\n",
        "f = np.cos(x)\n",
        "\n",
        "I_riemannL = h * sum(f[:n-1])\n",
        "err_riemannL = 0 - I_riemannL\n",
        "\n",
        "I_riemannR = h * sum(f[1::])\n",
        "err_riemannR = 0 - I_riemannR\n",
        "\n",
        "I_mid = h * sum(np.sin((x[:n-1] \\\n",
        "        + x[1:])/2))\n",
        "err_mid = 0 - I_mid\n",
        "\n",
        "print('Left Riemann Integral: ', I_riemannL)\n",
        "print('Error: ',err_riemannL,'\\n')\n",
        "\n",
        "print('Right Riemann Integral: ',I_riemannR)\n",
        "print('Error: ',err_riemannR,'\\n')\n",
        "\n",
        "print('Midpoint Rule', I_mid)\n",
        "print('Error: ',err_mid,'\\n')"
      ],
      "metadata": {
        "colab": {
          "base_uri": "https://localhost:8080/"
        },
        "id": "ha7ASf2fjHb2",
        "outputId": "8afe45e7-df24-4c77-af39-ddd3a4020a83"
      },
      "execution_count": 5,
      "outputs": [
        {
          "output_type": "stream",
          "name": "stdout",
          "text": [
            "Left Riemann Integral:  -3.986135426295579e-16\n",
            "Error:  3.986135426295579e-16 \n",
            "\n",
            "Right Riemann Integral:  -1.9930677131477896e-16\n",
            "Error:  1.9930677131477896e-16 \n",
            "\n",
            "Midpoint Rule 1.2456673207173685e-17\n",
            "Error:  -1.2456673207173685e-17 \n",
            "\n"
          ]
        }
      ]
    },
    {
      "cell_type": "markdown",
      "source": [
        "**Section 21.3(Trapezoid Rule)**\n",
        "\n",
        "The method of fitting a trapezoid into each subinterval and summing the areas of the trapezoid to approximate the total intergral is known as the Trapezoid Rule.\n",
        "\n",
        "∫[b,a] f(x)dx ≈ ∑[n-1,i=0] h*((f(x(i))+f(x(i+1)))/2)"
      ],
      "metadata": {
        "id": "Z12lN2fMqiIH"
      }
    },
    {
      "cell_type": "code",
      "source": [
        "#Approximate ∫[2π,0] cos(x)dx with 15 evenly spaced grid points over the whole interval, using the Trapezoid Rule.\n",
        "a = 0\n",
        "b = 2*np.pi\n",
        "n = 15\n",
        "h = (b - a) / (n - 1)\n",
        "x = np.linspace(a, b, n)\n",
        "f = np.cos(x)\n",
        "\n",
        "I_trap = (h/2)*(f[0] + \\\n",
        "          2 * sum(f[1:n-1]) + f[n-1])\n",
        "err_trap = 0 - I_trap\n",
        "\n",
        "print('Trapezoid Rule: ', I_trap)\n",
        "print('Error: ', err_trap)"
      ],
      "metadata": {
        "colab": {
          "base_uri": "https://localhost:8080/"
        },
        "id": "HQ9RgyCYrwC1",
        "outputId": "21634714-59f9-4c38-edfa-986795ad3840"
      },
      "execution_count": 2,
      "outputs": [
        {
          "output_type": "stream",
          "name": "stdout",
          "text": [
            "Trapezoid Rule:  -1.9930677131477896e-16\n",
            "Error:  1.9930677131477896e-16\n"
          ]
        }
      ]
    }
  ]
}