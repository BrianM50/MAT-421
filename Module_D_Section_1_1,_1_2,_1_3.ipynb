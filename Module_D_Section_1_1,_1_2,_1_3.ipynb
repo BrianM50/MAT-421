{
  "nbformat": 4,
  "nbformat_minor": 0,
  "metadata": {
    "colab": {
      "provenance": [],
      "authorship_tag": "ABX9TyOd/1JapJ7TctVjF34xdK8Z",
      "include_colab_link": true
    },
    "kernelspec": {
      "name": "python3",
      "display_name": "Python 3"
    },
    "language_info": {
      "name": "python"
    }
  },
  "cells": [
    {
      "cell_type": "markdown",
      "metadata": {
        "id": "view-in-github",
        "colab_type": "text"
      },
      "source": [
        "<a href=\"https://colab.research.google.com/github/BrianM50/MAT-421/blob/main/Module_D_Section_1_1%2C_1_2%2C_1_3.ipynb\" target=\"_parent\"><img src=\"https://colab.research.google.com/assets/colab-badge.svg\" alt=\"Open In Colab\"/></a>"
      ]
    },
    {
      "cell_type": "code",
      "execution_count": null,
      "metadata": {
        "id": "hHNFwHtNh9HZ"
      },
      "outputs": [],
      "source": [
        "import numpy as np\n",
        "import sympy as sympy\n",
        "import math"
      ]
    },
    {
      "cell_type": "markdown",
      "source": [
        "**Section 1.1(Introduction)**\n",
        "\n",
        "Linear algebra is a field of mathematics that plays an important part in machine learning and data science. It includes topics such as data science and which includes vector spaces, orthogonality, eigenvalues, matrix decomposition and further expanded to include linear regression and principal component analysis."
      ],
      "metadata": {
        "id": "SbtZEJqfiEF_"
      }
    },
    {
      "cell_type": "code",
      "source": [
        "A = [1,2,3,4,5]\n",
        "vectorA = np.array(A)\n",
        "print('Row vector')\n",
        "print(vectorA)\n",
        "B = vectorA*2\n",
        "print('Vector mulitplied by a scalar: ')\n",
        "print(vectorA,\"* 2 =\",B)\n",
        "print('')\n",
        "mA = np.array([[2,1],[-1,0]])\n",
        "print('Matrix')\n",
        "print(mA)"
      ],
      "metadata": {
        "colab": {
          "base_uri": "https://localhost:8080/"
        },
        "id": "uQ2FxOCoj9oK",
        "outputId": "d20236a5-5ecd-4f30-affc-739c15f39ebb"
      },
      "execution_count": null,
      "outputs": [
        {
          "output_type": "stream",
          "name": "stdout",
          "text": [
            "Row vector\n",
            "[1 2 3 4 5]\n",
            "Vector mulitplied by a scalar: \n",
            "[1 2 3 4 5] * 2 = [ 2  4  6  8 10]\n",
            "\n",
            "Matrix\n",
            "[[ 2  1]\n",
            " [-1  0]]\n"
          ]
        }
      ]
    },
    {
      "cell_type": "markdown",
      "source": [
        "**Section 1.2(Elements of Linear Algebra)**\n"
      ],
      "metadata": {
        "id": "Xqra4QenlRUL"
      }
    },
    {
      "cell_type": "code",
      "source": [
        "print('A linear combination is a new vector constructed from a subset by multiplying each vector and adding the results. \\n')\n",
        "print('Example:')\n",
        "a = np.array([[1,2,3]])\n",
        "b = np.array([[3,2,1]])\n",
        "c = np.array([[2,1,3]])\n",
        "print('a = ',a,'b = ', b,'c = ', c, '\\n')\n",
        "print('Linear Combination:')\n",
        "print('2a + 3b + 2c')\n",
        "d = 2*a + 3*b +2*c\n",
        "print(d)"
      ],
      "metadata": {
        "colab": {
          "base_uri": "https://localhost:8080/"
        },
        "id": "6deEPasAlgwL",
        "outputId": "9bd238f0-c136-4541-ab63-bef4e934816d"
      },
      "execution_count": null,
      "outputs": [
        {
          "output_type": "stream",
          "name": "stdout",
          "text": [
            "A linear combination is a new vector constructed from a subset by multiplying each vector and adding the results. \n",
            "\n",
            "Example:\n",
            "a =  [[1 2 3]] b =  [[3 2 1]] c =  [[2 1 3]] \n",
            "\n",
            "Linear Combination:\n",
            "2a + 3b + 2c\n",
            "[[15 12 15]]\n"
          ]
        }
      ]
    },
    {
      "cell_type": "code",
      "source": [
        "print('A span is a set S of vectors which are the set of linear combinations of vectors in S. \\n')\n",
        "print('Example:')\n",
        "e = np.array([[4,3]])\n",
        "f = np.array([[1,2]])\n",
        "print('e = ', e,  '\\nf = ', f)\n",
        "print('y = 2e + 3f')\n",
        "y = 2*e + 3*f\n",
        "print('y =', y)\n",
        "print('The vectors e, f, and y are all part of the span, R^2.')"
      ],
      "metadata": {
        "colab": {
          "base_uri": "https://localhost:8080/"
        },
        "id": "vdSVw1nsnsB0",
        "outputId": "81515c57-41aa-43a9-f151-f1ff06f39efc"
      },
      "execution_count": null,
      "outputs": [
        {
          "output_type": "stream",
          "name": "stdout",
          "text": [
            "A span is a set S of vectors which are the set of linear combinations of vectors in S. \n",
            "\n",
            "Example:\n",
            "e =  [[4 3]] \n",
            "f =  [[1 2]]\n",
            "y = 2e + 3f\n",
            "y = [[11 12]]\n",
            "The vectors e, f, and y are all part of the span, R^2.\n"
          ]
        }
      ]
    },
    {
      "cell_type": "code",
      "source": [
        "print('Linear Independence occurs when a list of vectors cannot be written as a linear combinations of one another. \\n')\n",
        "print('Example:')\n",
        "g = np.array([4,5])\n",
        "h = np.array([2,1])\n",
        "print('g =', g, '\\nh =', h)\n",
        "print('The vectors g and h are linearly independent because they are not multiples of each other (linear combinations). \\n')\n",
        "\n",
        "print('A list of vectors is linear dependent if it can be written as linear combination of the others. \\n')\n",
        "print('Example:')\n",
        "i = np.array([1,3])\n",
        "j = np.array([3,6])\n",
        "print('i =', i, '\\nj=',j)\n",
        "print('Vectors i and j are linearly dependent because they are multiples of one another.')"
      ],
      "metadata": {
        "colab": {
          "base_uri": "https://localhost:8080/"
        },
        "id": "lk_u5Jw8oQHr",
        "outputId": "4f1ab6b7-8138-4a4d-d393-4faf93c43eea"
      },
      "execution_count": null,
      "outputs": [
        {
          "output_type": "stream",
          "name": "stdout",
          "text": [
            "Linear Independence occurs when a list of vectors cannot be written as a linear combinations of one another. \n",
            "\n",
            "Example:\n",
            "g = [4 5] \n",
            "h = [2 1]\n",
            "The vectors g and h are linearly independent because they are not multiples of each other (linear combinations). \n",
            "\n",
            "A list of vectors is linear dependent if it can be written as linear combination of the others. \n",
            "\n",
            "Example:\n",
            "i = [1 3] \n",
            "j= [3 6]\n",
            "Vectors i and j are linearly dependent because they are multiples of one another.\n"
          ]
        }
      ]
    },
    {
      "cell_type": "code",
      "source": [
        "print('Orthogonality is when two vectors are perpendicular to each other. This can be computed by using a dot product. If the dot product equals zero the two vectors are perpendicular. \\n')\n",
        "print('Example: ')\n",
        "k = np.array([-6,2,])\n",
        "l = np.array([2,6])\n",
        "print('k =', k,'\\nl =',l)\n",
        "print('k*l =', np.dot(k,l))\n",
        "print('The dot product of k and l is zero, which means the two vectors are perpendicular to each other and orthogonal.')"
      ],
      "metadata": {
        "colab": {
          "base_uri": "https://localhost:8080/"
        },
        "id": "VPJkPwRKomAN",
        "outputId": "14ac89c7-6c81-4848-b2dc-4d2e3db9ad61"
      },
      "execution_count": null,
      "outputs": [
        {
          "output_type": "stream",
          "name": "stdout",
          "text": [
            "Orthogonality is when two vectors are perpendicular to each other. This can be computed by using a dot product. If the dot product equals zero the two vectors are perpendicular. \n",
            "\n",
            "Example: \n",
            "k = [-6  2] \n",
            "l = [2 6]\n",
            "k*l = 0\n",
            "The dot product of k and l is zero, which means the two vectors are perpendicular to each other and orthogonal.\n"
          ]
        }
      ]
    },
    {
      "cell_type": "code",
      "source": [
        "print('The Gram-Schmidt process is used to convert linearly independent vectors into an orthogonal basis \\n')\n",
        "print('Example:')\n",
        "x1 = np.array([1,1,0])\n",
        "x2 = np.array([-2,0,1])\n",
        "print('Vectors x1 and x2 are linearly independent vectors')\n",
        "print('x1 =',x1,'\\nx2 =',x2)\n",
        "v1 = x1/np.linalg.norm(x1)\n",
        "v2 = x2 - ((np.dot(x2,x1))/np.dot(x1,x1))*x1\n",
        "vo2 = v2/np.linalg.norm(v2)\n",
        "print('We find the orthogonal basis to be')\n",
        "print('v1 =',v1,'\\nv2 =', vo2)"
      ],
      "metadata": {
        "colab": {
          "base_uri": "https://localhost:8080/"
        },
        "id": "bWXTw2DWqhKN",
        "outputId": "f8ad5674-0659-4a6f-dda4-b4d2074011f8"
      },
      "execution_count": null,
      "outputs": [
        {
          "output_type": "stream",
          "name": "stdout",
          "text": [
            "The Gram-Schmidt process is used to convert linearly independent vectors into an orthogonal basis \n",
            "\n",
            "Example:\n",
            "Vectors x1 and x2 are linearly independent vectors\n",
            "x1 = [1 1 0] \n",
            "x2 = [-2  0  1]\n",
            "We find the orthogonal basis to be\n",
            "v1 = [0.70710678 0.70710678 0.        ] \n",
            "v2 = [-0.57735027  0.57735027  0.57735027]\n"
          ]
        }
      ]
    },
    {
      "cell_type": "markdown",
      "source": [
        "**Section 1.3(Linear Regression)**"
      ],
      "metadata": {
        "id": "PDXDYZF9Fssm"
      }
    },
    {
      "cell_type": "code",
      "source": [
        "print(\"QR decomposition is used to solve the linear least squares problem. Using the Gram-Schmidt process we break down Matrix so that A = QR, where Q is an orthnormal matrix and R is an upper triangular matrix R.\")\n",
        "A = np.array([[20,15,30],[15,50,48],[5,24,6]], dtype = float)\n",
        "print(\"Matrix A\")\n",
        "print(A)\n",
        "x1 = np.array([20,15,5])\n",
        "x2 = np.array([15,50,24])\n",
        "x3 = np.array([30,48,6])\n",
        "print('x1 =',x1,'\\nx2 =', x2,'\\nx3 =', x3)\n",
        "v1 = x1/np.linalg.norm(x1)\n",
        "v2 = x2 - ((np.dot(x2,x1))/np.dot(x1,x1))*x1\n",
        "vo2 = v2/np.linalg.norm(v2)\n",
        "v3 = x3 - (((np.dot(x3,x1))/np.dot(x1,x1))*x1) - (((np.dot(x3,v2))/np.dot(v2,v2))*v2)\n",
        "vo3 = v3/np.linalg.norm(v3)\n",
        "print('')\n",
        "print('We find the orthnormal basis to be')\n",
        "print('v1 =', v1, '\\nv2 =', vo2,'\\nv3 =', vo3)\n",
        "print('')\n",
        "print('The Matrix Q will then be')\n",
        "Qtranspose = np.array([[v1],[vo2],[vo3]])\n",
        "Q = Qtranspose.transpose()\n",
        "print(Q)\n",
        "print('')\n",
        "print('To find R we need to multiply the transpose of Q by A, Q^(T)A = R')\n",
        "r = np.dot(Qtranspose, A)\n",
        "R = np.rint(r)\n",
        "print('R =')\n",
        "print(R)"
      ],
      "metadata": {
        "colab": {
          "base_uri": "https://localhost:8080/"
        },
        "id": "TXIR8gnNGMaj",
        "outputId": "8f5b0b36-8f04-4ca0-ceed-1330d4a8bc3c"
      },
      "execution_count": null,
      "outputs": [
        {
          "output_type": "stream",
          "name": "stdout",
          "text": [
            "QR decomposition is used to solve the linear least squares problem. Using the Gram-Schmidt process we break down Matrix so that A = QR, where Q is an orthnormal matrix and R is an upper triangular matrix R.\n",
            "Matrix A\n",
            "[[20. 15. 30.]\n",
            " [15. 50. 48.]\n",
            " [ 5. 24.  6.]]\n",
            "x1 = [20 15  5] \n",
            "x2 = [15 50 24] \n",
            "x3 = [30 48  6]\n",
            "\n",
            "We find the orthnormal basis to be\n",
            "v1 = [0.78446454 0.58834841 0.19611614] \n",
            "v2 = [-0.6074847   0.66534038  0.43391764] \n",
            "v3 = [-0.12481077  0.45953055 -0.87934859]\n",
            "\n",
            "The Matrix Q will then be\n",
            "[[[ 0.78446454 -0.6074847  -0.12481077]]\n",
            "\n",
            " [[ 0.58834841  0.66534038  0.45953055]]\n",
            "\n",
            " [[ 0.19611614  0.43391764 -0.87934859]]]\n",
            "\n",
            "To find R we need to multiply the transpose of Q by A, Q^(T)A = R\n",
            "R =\n",
            "[[[25. 46. 53.]]\n",
            "\n",
            " [[ 0. 35. 16.]]\n",
            "\n",
            " [[-0. -0. 13.]]]\n"
          ]
        }
      ]
    },
    {
      "cell_type": "code",
      "source": [
        "print('The least-squares problems involves solving for the system Ax = b, where A is a nxm matrix. Since matrix A is not a square matrix we have to use QR decomposition to solve the system')\n",
        "print('Ax = b')\n",
        "print('QRx = b')\n",
        "print('Rx = Q^(T)b')\n",
        "print('x = R^(-1)Q^(T)b')\n",
        "B = np.array([[0,1],[1, 3],[2, 1]], dtype = float)\n",
        "print('')\n",
        "print(\"Matrix A\")\n",
        "print(B)\n",
        "y1 = np.array([0,1,2])\n",
        "y2 = np.array([1,3,1])\n",
        "print('y1 =',y1,'\\ny2 =', y2)\n",
        "print('')\n",
        "ve1 = y1/np.linalg.norm(y1)\n",
        "ve2 = y2 - ((np.dot(y2,y1))/np.dot(y1,y1))*y1\n",
        "vec2 = ve2/np.linalg.norm(ve2)\n",
        "print('We find the orthnormal basis to be')\n",
        "print('v1 =', ve1, '\\nv2 =', vec2)\n",
        "Q = np.array([[0,(math.sqrt(6))/6],[(math.sqrt(5))/5,(math.sqrt(6))/3],[2*(math.sqrt(5))/5,-(math.sqrt(6))/6]])\n",
        "print('')\n",
        "print('The Matrix Q is')\n",
        "print(Q)\n",
        "\n",
        "print('')\n",
        "R = np.dot(Q.transpose(),B)\n",
        "print('The R matrix is')\n",
        "print(np.rint(R))\n",
        "\n",
        "print('')\n",
        "print('Let vector b be')\n",
        "b = np.array([[1],[5],[6]], dtype = float)\n",
        "print(b)\n",
        "print('')\n",
        "print('Now that we have the matices Q and R we can solve for x using the system QRx = b')\n",
        "Qt = Q.transpose()\n",
        "Rinv = np.linalg.inv(R)\n",
        "print('Q^(T) =')\n",
        "print(Qt)\n",
        "print('')\n",
        "print('R^(-1) =')\n",
        "print(Rinv)\n",
        "print('')\n",
        "Qb = np.dot(Qt,b)\n",
        "x = np.dot(Rinv, Qb)\n",
        "print('Plugging these matrices into the equation x = R^(-1)Q^(T)b, we get x =')\n",
        "print(x)\n",
        "print('')\n",
        "print('To check this is the correct x we multiply the matrix A by x to get b, Ax = b')\n",
        "vecb = np.dot(B,x)\n",
        "print(np.rint(vecb))"
      ],
      "metadata": {
        "colab": {
          "base_uri": "https://localhost:8080/"
        },
        "id": "BbgykR28G6g0",
        "outputId": "8f7cc1a9-dfff-42ae-c5b4-3f2e1d6ba1d4"
      },
      "execution_count": null,
      "outputs": [
        {
          "output_type": "stream",
          "name": "stdout",
          "text": [
            "The least-squares problems involves solving for the system Ax = b, where A is a nxm matrix. Since matrix A is not a square matrix we have to use QR decomposition to solve the system\n",
            "Ax = b\n",
            "QRx = b\n",
            "Rx = Q^(T)b\n",
            "x = R^(-1)Q^(T)b\n",
            "\n",
            "Matrix A\n",
            "[[0. 1.]\n",
            " [1. 3.]\n",
            " [2. 1.]]\n",
            "y1 = [0 1 2] \n",
            "y2 = [1 3 1]\n",
            "\n",
            "We find the orthnormal basis to be\n",
            "v1 = [0.         0.4472136  0.89442719] \n",
            "v2 = [ 0.40824829  0.81649658 -0.40824829]\n",
            "\n",
            "The Matrix Q is\n",
            "[[ 0.          0.40824829]\n",
            " [ 0.4472136   0.81649658]\n",
            " [ 0.89442719 -0.40824829]]\n",
            "\n",
            "The R matrix is\n",
            "[[2. 2.]\n",
            " [0. 2.]]\n",
            "\n",
            "Let vector b be\n",
            "[[1.]\n",
            " [5.]\n",
            " [6.]]\n",
            "\n",
            "Now that we have the matices Q and R we can solve for x using the system QRx = b\n",
            "Q^(T) =\n",
            "[[ 0.          0.4472136   0.89442719]\n",
            " [ 0.40824829  0.81649658 -0.40824829]]\n",
            "\n",
            "R^(-1) =\n",
            "[[ 0.4472136  -0.40824829]\n",
            " [ 0.          0.40824829]]\n",
            "\n",
            "Plugging these matrices into the equation x = R^(-1)Q^(T)b, we get x =\n",
            "[[2.56666667]\n",
            " [0.83333333]]\n",
            "\n",
            "To check this is the correct x we multiply the matrix A by x to get b, Ax = b\n",
            "[[1.]\n",
            " [5.]\n",
            " [6.]]\n"
          ]
        }
      ]
    }
  ]
}