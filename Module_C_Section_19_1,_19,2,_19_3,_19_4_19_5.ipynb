{
  "nbformat": 4,
  "nbformat_minor": 0,
  "metadata": {
    "colab": {
      "provenance": [],
      "authorship_tag": "ABX9TyOCgQPS8I7gPSWKarLSPXM/",
      "include_colab_link": true
    },
    "kernelspec": {
      "name": "python3",
      "display_name": "Python 3"
    },
    "language_info": {
      "name": "python"
    }
  },
  "cells": [
    {
      "cell_type": "markdown",
      "metadata": {
        "id": "view-in-github",
        "colab_type": "text"
      },
      "source": [
        "<a href=\"https://colab.research.google.com/github/BrianM50/MAT-421/blob/main/Module_C_Section_19_1%2C_19%2C2%2C_19_3%2C_19_4_19_5.ipynb\" target=\"_parent\"><img src=\"https://colab.research.google.com/assets/colab-badge.svg\" alt=\"Open In Colab\"/></a>"
      ]
    },
    {
      "cell_type": "code",
      "execution_count": 1,
      "metadata": {
        "id": "XMCEsqf5WE9F"
      },
      "outputs": [],
      "source": [
        "import numpy as np\n",
        "from scipy import optimize\n",
        "from scipy.optimize import fsolve"
      ]
    },
    {
      "cell_type": "markdown",
      "source": [
        "**Section 19.1(Root Finding Problem Statement)**\n",
        "\n",
        "The root of a function is an x, where plugging it in the function would make the function equal to zero. Finding the roots for functions such as f(x) = x^2 - 16 is simple, but for other function such as f(x) = cos(x) + x it isn't so simple."
      ],
      "metadata": {
        "id": "uiW-Go_3WRv0"
      }
    },
    {
      "cell_type": "code",
      "source": [
        "#Compute the foot for f(x) = sin(x) + x near 4\n",
        "f = lambda x: np.cos(x) + x\n",
        "r = optimize.fsolve(f, 4)\n",
        "print(\"r =\", r)\n",
        "\n",
        "# Verify the solution is a root\n",
        "result = f(r)\n",
        "print(\"result=\", result)"
      ],
      "metadata": {
        "colab": {
          "base_uri": "https://localhost:8080/"
        },
        "id": "wuUeZ79gXdK1",
        "outputId": "87cd9f96-3a83-4115-fcb1-08a89a9c18d2"
      },
      "execution_count": 2,
      "outputs": [
        {
          "output_type": "stream",
          "name": "stdout",
          "text": [
            "r = [-0.73908513]\n",
            "result= [0.]\n"
          ]
        }
      ]
    },
    {
      "cell_type": "markdown",
      "source": [
        "**Section 19.2(Tolerance)**\n",
        "\n",
        "In engineering and science, Tolerance is the level of error that is accetable for an engineering application, where we define error as a deviation from an expected or computed value.\n",
        "\n",
        "It is important to create both a metric for error and a tolerance that works for the given engineering/science application, when computing roots numerically or when computing other kinds of numerical analysis."
      ],
      "metadata": {
        "id": "W-vyH-9JYUZ8"
      }
    },
    {
      "cell_type": "markdown",
      "source": [
        "**Section 19.3(Bisection Method)**\n",
        "\n",
        "Using the intermadiate value theorem iteratively to find roots is what occurs in the bisection method. The intermadiate value theorem states that if f(x) is a continuous function between a and b, and sign(f(a)) ≠ sign(f(b)), then there must be a c,such that a < c < b and f(c) = 0.\n"
      ],
      "metadata": {
        "id": "NSHsBw5DaWbH"
      }
    },
    {
      "cell_type": "code",
      "source": [
        "#Function approximates a root r of f , bounded by a and b to within |f((a+b)/2)| < tol.\n",
        "def my_bisection(f, a, b, tol):\n",
        "    # approximates a root, R, of f bounded\n",
        "    # by a and b to within tolerance\n",
        "    # |f(m)| < tol with m the midpoint\n",
        "    # between a and b Recursive implementation\n",
        "\n",
        "    # check if a and b bound a root\n",
        "    if np.sign(f(a)) == np.sign(f(b)):\n",
        "        raise Exception(\"The scalars a and b do not bound a root\")\n",
        "\n",
        "    # get midpoint\n",
        "    m = (a + b)/2\n",
        "\n",
        "    if np.abs(f(m)) < tol:\n",
        "        # stopping condition, report m as root\n",
        "        return m\n",
        "    elif np.sign(f(a)) == np.sign(f(m)):\n",
        "        # case where m is an improvement on a.\n",
        "        # Make recursive call with a = m\n",
        "        return my_bisection(f, m, b, tol)\n",
        "    elif np.sign(f(b)) == np.sign(f(m)):\n",
        "        # case where m is an improvement on b.\n",
        "        # Make recursive call with b = m\n",
        "        return my_bisection(f, a, m, tol)"
      ],
      "metadata": {
        "id": "3nxw1MKUcO6Q"
      },
      "execution_count": 3,
      "outputs": []
    },
    {
      "cell_type": "code",
      "source": [
        "#Approximate √3 to a tolerance of |f(x)| < 0.01 and |f(x)| < 0.001.\n",
        "f = lambda x: x**2 - 3\n",
        "\n",
        "r1 = my_bisection(f, 0, 2, 0.01)\n",
        "print('r1 =', r1)\n",
        "r01 = my_bisection(f, 0, 2, 0.001)\n",
        "print('r01 =', r01)\n",
        "\n",
        "print('f(r1) =', f(r1))\n",
        "print('f(r01) =', f(r01))"
      ],
      "metadata": {
        "colab": {
          "base_uri": "https://localhost:8080/"
        },
        "id": "qNTwwcq5dss-",
        "outputId": "e2f52709-9d13-4665-b8aa-addf52f9f4eb"
      },
      "execution_count": 5,
      "outputs": [
        {
          "output_type": "stream",
          "name": "stdout",
          "text": [
            "r1 = 1.734375\n",
            "r01 = 1.73193359375\n",
            "f(r1) = 0.008056640625\n",
            "f(r01) = -0.00040602684020996094\n"
          ]
        }
      ]
    },
    {
      "cell_type": "markdown",
      "source": [
        "**Section 19.4(Newton-Raphson Method)**\n",
        "\n",
        "If f(x) is a smooth and continuous function and x(r) is an unknown root of f(x), then the Newton-Raphson method can be used to find an approximation of the root. It does so by finding roots iterates Newton steps from x(0) until the error is less then the tolerance. A Newton step uses a previous guess x(i-1) to compute an improved guess, x(i). The equation for this process is: x(i) = x(i-1) - (g(x(i-1))/g'(x(i-1)))."
      ],
      "metadata": {
        "id": "yZhj6oWCfAGf"
      }
    },
    {
      "cell_type": "code",
      "source": [
        "#Using x(0) = 1.7 as a starting point, estimate √3\n",
        "f = lambda x: x**2 - 3\n",
        "f_prime = lambda x: 2*x\n",
        "newton_raphson = 1.7 - (f(1.7))/(f_prime(1.7))\n",
        "\n",
        "print(\"newton_raphson =\", newton_raphson)\n",
        "print(\"sqrt(3) =\", np.sqrt(3))"
      ],
      "metadata": {
        "colab": {
          "base_uri": "https://localhost:8080/"
        },
        "id": "0-xAqmRCeucN",
        "outputId": "74023375-4d67-4783-ebe7-4b978691e0a7"
      },
      "execution_count": null,
      "outputs": [
        {
          "output_type": "stream",
          "name": "stdout",
          "text": [
            "newton_raphson = 1.7323529411764707\n",
            "sqrt(3) = 1.7320508075688772\n"
          ]
        }
      ]
    },
    {
      "cell_type": "code",
      "source": [
        "#Function where the output is an estimation of the root of f using Newton-Raphson Method\n",
        "def my_newton(f, df, x0, tol):\n",
        "    # output is an estimation of the root of f\n",
        "    # using the Newton Raphson method\n",
        "    # recursive implementation\n",
        "    if abs(f(x0)) < tol:\n",
        "        return x0\n",
        "    else:\n",
        "        return my_newton(f, df, x0 - f(x0)/df(x0), tol)"
      ],
      "metadata": {
        "id": "Vu5QZ2ZphzJL"
      },
      "execution_count": null,
      "outputs": []
    },
    {
      "cell_type": "code",
      "source": [
        "#Approximate √3 using the function my_newton(f, df, x0, tol) to within a tolerance of 1e-6 starting at x(0) = 1.5\n",
        "estimate = my_newton(f, f_prime, 1.5, 1e-6)\n",
        "print(\"estimate =\", estimate)\n",
        "print(\"sqrt(3) =\", np.sqrt(3))"
      ],
      "metadata": {
        "colab": {
          "base_uri": "https://localhost:8080/"
        },
        "id": "UiaBdLqwiS6S",
        "outputId": "a66dc354-f34f-486a-e1a6-61ac21b5176d"
      },
      "execution_count": null,
      "outputs": [
        {
          "output_type": "stream",
          "name": "stdout",
          "text": [
            "estimate = 1.7320508100147276\n",
            "sqrt(3) = 1.7320508075688772\n"
          ]
        }
      ]
    },
    {
      "cell_type": "markdown",
      "source": [
        "**Section 19.5(Root Finding in Python)**\n",
        "\n",
        "Python has many existing root-finding functions. The one that will be used is the f_solve function."
      ],
      "metadata": {
        "id": "ljizM2YPjLNK"
      }
    },
    {
      "cell_type": "code",
      "source": [
        "#Compute the root of the function x^3 - 100x^2 - x + 100\n",
        "f = lambda x: x**3-100*x**2-x+100\n",
        "\n",
        "fsolve(f, [2, 80])\n",
        "print('The function has two roots x = 1 and x = 100.')"
      ],
      "metadata": {
        "colab": {
          "base_uri": "https://localhost:8080/"
        },
        "id": "hGlVVdSij-2Y",
        "outputId": "213e020e-30c1-486a-f737-0b2ce5be69e1"
      },
      "execution_count": null,
      "outputs": [
        {
          "output_type": "stream",
          "name": "stdout",
          "text": [
            "The function has two roots x = 1 and x = 100.\n"
          ]
        }
      ]
    }
  ]
}